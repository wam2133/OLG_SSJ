{
 "cells": [
  {
   "cell_type": "markdown",
   "id": "5b55f08d",
   "metadata": {},
   "source": [
    "This code uses the SSJ environment to solve a simple 2-generation OLG model without bequests."
   ]
  },
  {
   "cell_type": "code",
   "execution_count": 1,
   "id": "d70a6148",
   "metadata": {},
   "outputs": [],
   "source": [
    "\n",
    "calibration = {'thetao': 0.1, 'thetay': 1.9, 'pi_o': 0.5, 'pi_y': 0.5, 'K': 1.6, 'L': 1, 'delta': 0.18749999999999997, 'H': 2, 'alpha': 0.3, 'sig_y': 1.4, 'nh': 0.9, 'gamma': 1.0, 'Tax': 0.5319999999999999, 'taul': 0.3, 'co': 1.7476602802635783, 'cy': 1.6233880298203545, 'ly': 1.9023585540600496, 'lo': 0.09764144761560888, 'ay': 1.1520000010308595, 'r': 0.05, 'w': 0.8866666666666665, 'Y': 1.2666666666666666, 'Z': 1.100085263739135, 'bequests': 0, 'NFA': 0.36}\n",
    "\n",
    "import numpy as np\n",
    "\n",
    "H=2\n",
    "sigvec = np.arange(0,H,1)\n",
    "\n",
    "from sequence_jacobian import simple, solved, create_model, combine\n"
   ]
  },
  {
   "cell_type": "markdown",
   "id": "b9dbfafb",
   "metadata": {},
   "source": [
    "The calibration came from a separate steady state file. The firm block is off the shelf."
   ]
  },
  {
   "cell_type": "code",
   "execution_count": 3,
   "id": "c9725ba4",
   "metadata": {},
   "outputs": [],
   "source": [
    "@simple\n",
    "def firm(K, L, Z, alpha, delta):\n",
    "    r = alpha * Z * (K / L) ** (alpha-1) - delta\n",
    "    w = (1 - alpha) * Z * (K / L) ** alpha\n",
    "    Y = Z * K ** alpha * L ** (1 - alpha)\n",
    "    return r, w, Y"
   ]
  },
  {
   "cell_type": "markdown",
   "id": "b068dfdf",
   "metadata": {},
   "source": [
    "The 2 living generations take fiscal policy (taul, T), wages (w), and the interest rate (r) to solve for their lifetime budget constraint, and their FOC give their consumption when old. That is, I solve for co (the consumption of the current old) and co_y the consumption when old of the current young."
   ]
  },
  {
   "cell_type": "code",
   "execution_count": 4,
   "id": "1b79c811",
   "metadata": {},
   "outputs": [
    {
     "name": "stdout",
     "output_type": "stream",
     "text": [
      "Inputs: ['w', 'r', 'beta', 'psil', 'Tax', 'taul', 'gamma', 'H', 'sig_y', 'nh', 'thetay', 'thetao']\n",
      "Outputs: ['ay', 'cy', 'ly', 'lo', 'lifebud_o', 'lifebud_y', 'co_y', 'co']\n"
     ]
    }
   ],
   "source": [
    "@simple\n",
    "def lifetimebudget_y(co_y,w,r,beta,psil,Tax,taul,gamma,H,sig_y,nh,thetao,thetay):\n",
    "    \n",
    "    # EIS over the life-cycle\n",
    "    sig = np.ones(H)*sig_y\n",
    "    sig = sig*nh**sigvec\n",
    "    \n",
    "    cy_y = (beta*(1+r(+1))*co_y**(-sig[H-1]))**(-1/sig[0])\n",
    "    \n",
    "    ly_y = ((cy_y**(-sig[0])*(1-taul)*w*thetay)/psil)**(1/gamma)\n",
    "    lo_y = ((co_y**(-sig[H-1])*(1-taul)*w(+1)*thetao)/psil)**(1/gamma)\n",
    "    \n",
    "    lifebud_y = (thetay*w*ly_y*(1-taul)+Tax-cy_y)*(1+r(+1))+Tax+thetao*w(+1)*lo_y*(1-taul)-co_y \n",
    "    \n",
    "    return lifebud_y\n",
    "\n",
    "@simple\n",
    "def lifetimebudget_o(co,w,r,beta,psil,Tax,taul,gamma,H,sig_y,nh,thetay,thetao):\n",
    "    \n",
    "    # EIS over the life-cycle\n",
    "    sig = np.ones(H)*sig_y\n",
    "    sig = sig*nh**sigvec\n",
    "    \n",
    "    cy_o = (beta*(1+r)*co**(-sig[H-1]))**(-1/sig[0])\n",
    "    \n",
    "    ly_o = ((cy_o**(-sig[0])*(1-taul)*w(-1)*thetay)/psil)**(1/gamma)\n",
    "    lo_o = ((co**(-sig[H-1])*(1-taul)*w*thetao)/psil)**(1/gamma)\n",
    "    \n",
    "    lifebud_o = (thetay*w(-1)*ly_o*(1-taul)+Tax-cy_o)*(1+r)+Tax+thetao*w*lo_o*(1-taul)-co\n",
    "    \n",
    "    return lifebud_o\n",
    "\n",
    "@simple\n",
    "def household(co,co_y,w,r,beta,psil,Tax,taul,gamma,H,sig_y,nh,thetay,thetao):\n",
    "    \n",
    "    # EIS over the life-cycle\n",
    "    sig = np.ones(H)*sig_y\n",
    "    sig = sig*nh**sigvec\n",
    "    \n",
    "    cy = (beta*(1+r(+1))*co_y**(-sig[H-1]))**(-1/sig[0])\n",
    "    \n",
    "    ly = ((cy**(-sig[0])*(1-taul)*w*thetay)/psil)**(1/gamma)\n",
    "    \n",
    "    ay = thetay*w*ly*(1-taul)+Tax-cy\n",
    "    \n",
    "    lo = ((co**(-sig[H-1])*(1-taul)*w*thetao)/psil)**(1/gamma)\n",
    "\n",
    "    \n",
    "    return ay, cy, ly, lo\n",
    "\n",
    "households = combine([household,lifetimebudget_o,lifetimebudget_y])\n",
    "household_solved = households.solved(unknowns={'co':.8, 'co_y': .8},targets=['lifebud_o', 'lifebud_y'],solver='broyden_custom')\n",
    "\n",
    "print(f\"Inputs: {household_solved.inputs}\")\n",
    "print(f\"Outputs: {household_solved.outputs}\")"
   ]
  },
  {
   "cell_type": "markdown",
   "id": "611777a4",
   "metadata": {},
   "source": [
    "The lifetime budget blocks take the lifetime budget of each age and solve for co, co_y and the household block takes these solutions and returns cy, as well as labor for each age (ly, lo) and savings of the young (ay). I then combine them into a solved block."
   ]
  },
  {
   "cell_type": "code",
   "execution_count": 6,
   "id": "6e59b000",
   "metadata": {},
   "outputs": [
    {
     "name": "stdout",
     "output_type": "stream",
     "text": [
      "Inputs: ['K', 'L', 'Z', 'alpha', 'delta', 'taul', 'beta', 'psil', 'gamma', 'H', 'sig_y', 'nh', 'thetay', 'thetao', 'pi_y', 'pi_o', 'NFA']\n",
      "Outputs: ['r', 'w', 'Y', 'Tax', 'ay', 'cy', 'ly', 'lo', 'lifebud_o', 'lifebud_y', 'co_y', 'co', 'asset_mrkt', 'labor_mrkt']\n"
     ]
    }
   ],
   "source": [
    "\n",
    "@simple\n",
    "def targets(ay,K,pi_y,pi_o,ly,lo,L,NFA):\n",
    "    asset_mrkt  = pi_y*ay - K(+1)*NFA       \n",
    "    labor_mrkt = pi_y*ly + pi_o*lo - L\n",
    "        \n",
    "    return asset_mrkt, labor_mrkt\n",
    "\n",
    "@simple\n",
    "def fiscal(taul,L,w):\n",
    "    Tax = taul*L*w*2\n",
    "    return Tax\n",
    "\n",
    "        \n",
    "OLGmodel = create_model([firm,fiscal,household_solved,targets],name='OLG')\n",
    "\n",
    "print(f\"Inputs: {OLGmodel.inputs}\")\n",
    "print(f\"Outputs: {OLGmodel.outputs}\")\n",
    "\n",
    "unknowns_ss={'psil':.3,'beta':.967}\n",
    "targets_ss={'labor_mrkt':0,'asset_mrkt':0}\n",
    "ss = OLGmodel.solve_steady_state(calibration, unknowns_ss, targets_ss, solver=\"hybr\")\n"
   ]
  },
  {
   "cell_type": "code",
   "execution_count": 7,
   "id": "764f3739",
   "metadata": {},
   "outputs": [
    {
     "ename": "LinAlgError",
     "evalue": "Last 2 dimensions of the array must be square",
     "output_type": "error",
     "traceback": [
      "\u001b[1;31m---------------------------------------------------------------------------\u001b[0m",
      "\u001b[1;31mLinAlgError\u001b[0m                               Traceback (most recent call last)",
      "\u001b[1;32m<ipython-input-7-0234aa180132>\u001b[0m in \u001b[0;36m<module>\u001b[1;34m\u001b[0m\n\u001b[0;32m      3\u001b[0m \u001b[0mtargets\u001b[0m \u001b[1;33m=\u001b[0m \u001b[1;33m[\u001b[0m\u001b[1;34m'asset_mkt'\u001b[0m\u001b[1;33m,\u001b[0m\u001b[1;34m'labor_mrkt'\u001b[0m\u001b[1;33m]\u001b[0m\u001b[1;33m\u001b[0m\u001b[1;33m\u001b[0m\u001b[0m\n\u001b[0;32m      4\u001b[0m \u001b[1;33m\u001b[0m\u001b[0m\n\u001b[1;32m----> 5\u001b[1;33m \u001b[0mG\u001b[0m \u001b[1;33m=\u001b[0m \u001b[0mOLGmodel\u001b[0m\u001b[1;33m.\u001b[0m\u001b[0msolve_jacobian\u001b[0m\u001b[1;33m(\u001b[0m\u001b[0mss\u001b[0m\u001b[1;33m,\u001b[0m \u001b[0munknowns\u001b[0m\u001b[1;33m,\u001b[0m \u001b[0mtargets\u001b[0m\u001b[1;33m,\u001b[0m \u001b[0minputs\u001b[0m\u001b[1;33m,\u001b[0m \u001b[0mT\u001b[0m\u001b[1;33m=\u001b[0m\u001b[1;36m4\u001b[0m\u001b[1;33m)\u001b[0m\u001b[1;33m\u001b[0m\u001b[1;33m\u001b[0m\u001b[0m\n\u001b[0m",
      "\u001b[1;32m~\\anaconda3\\lib\\site-packages\\sequence_jacobian\\blocks\\block.py\u001b[0m in \u001b[0;36msolve_jacobian\u001b[1;34m(self, ss, unknowns, targets, inputs, outputs, T, Js, options, H_U_factored, **kwargs)\u001b[0m\n\u001b[0;32m    258\u001b[0m         \u001b[1;32mif\u001b[0m \u001b[0mH_U_factored\u001b[0m \u001b[1;32mis\u001b[0m \u001b[1;32mNone\u001b[0m\u001b[1;33m:\u001b[0m\u001b[1;33m\u001b[0m\u001b[1;33m\u001b[0m\u001b[0m\n\u001b[0;32m    259\u001b[0m             \u001b[0mH_U\u001b[0m \u001b[1;33m=\u001b[0m \u001b[0mself\u001b[0m\u001b[1;33m.\u001b[0m\u001b[0mjacobian\u001b[0m\u001b[1;33m(\u001b[0m\u001b[0mss\u001b[0m\u001b[1;33m,\u001b[0m \u001b[0munknowns\u001b[0m\u001b[1;33m,\u001b[0m \u001b[0mtargets\u001b[0m\u001b[1;33m,\u001b[0m \u001b[0mT\u001b[0m\u001b[1;33m,\u001b[0m \u001b[0mJs\u001b[0m\u001b[1;33m,\u001b[0m \u001b[0moptions\u001b[0m\u001b[1;33m,\u001b[0m \u001b[1;33m**\u001b[0m\u001b[0mkwargs\u001b[0m\u001b[1;33m)\u001b[0m\u001b[1;33m.\u001b[0m\u001b[0mpack\u001b[0m\u001b[1;33m(\u001b[0m\u001b[0mT\u001b[0m\u001b[1;33m)\u001b[0m\u001b[1;33m\u001b[0m\u001b[1;33m\u001b[0m\u001b[0m\n\u001b[1;32m--> 260\u001b[1;33m             \u001b[0mU_Z\u001b[0m \u001b[1;33m=\u001b[0m \u001b[0mJacobianDict\u001b[0m\u001b[1;33m.\u001b[0m\u001b[0munpack\u001b[0m\u001b[1;33m(\u001b[0m\u001b[1;33m-\u001b[0m\u001b[0mnp\u001b[0m\u001b[1;33m.\u001b[0m\u001b[0mlinalg\u001b[0m\u001b[1;33m.\u001b[0m\u001b[0msolve\u001b[0m\u001b[1;33m(\u001b[0m\u001b[0mH_U\u001b[0m\u001b[1;33m,\u001b[0m \u001b[0mH_Z\u001b[0m\u001b[1;33m.\u001b[0m\u001b[0mpack\u001b[0m\u001b[1;33m(\u001b[0m\u001b[0mT\u001b[0m\u001b[1;33m)\u001b[0m\u001b[1;33m)\u001b[0m\u001b[1;33m,\u001b[0m \u001b[0munknowns\u001b[0m\u001b[1;33m,\u001b[0m \u001b[0minputs\u001b[0m\u001b[1;33m,\u001b[0m \u001b[0mT\u001b[0m\u001b[1;33m)\u001b[0m\u001b[1;33m\u001b[0m\u001b[1;33m\u001b[0m\u001b[0m\n\u001b[0m\u001b[0;32m    261\u001b[0m         \u001b[1;32melse\u001b[0m\u001b[1;33m:\u001b[0m\u001b[1;33m\u001b[0m\u001b[1;33m\u001b[0m\u001b[0m\n\u001b[0;32m    262\u001b[0m             \u001b[0mU_Z\u001b[0m \u001b[1;33m=\u001b[0m \u001b[0mH_U_factored\u001b[0m \u001b[1;33m@\u001b[0m \u001b[0mH_Z\u001b[0m\u001b[1;33m\u001b[0m\u001b[1;33m\u001b[0m\u001b[0m\n",
      "\u001b[1;32m<__array_function__ internals>\u001b[0m in \u001b[0;36msolve\u001b[1;34m(*args, **kwargs)\u001b[0m\n",
      "\u001b[1;32m~\\anaconda3\\lib\\site-packages\\numpy\\linalg\\linalg.py\u001b[0m in \u001b[0;36msolve\u001b[1;34m(a, b)\u001b[0m\n\u001b[0;32m    378\u001b[0m     \u001b[0ma\u001b[0m\u001b[1;33m,\u001b[0m \u001b[0m_\u001b[0m \u001b[1;33m=\u001b[0m \u001b[0m_makearray\u001b[0m\u001b[1;33m(\u001b[0m\u001b[0ma\u001b[0m\u001b[1;33m)\u001b[0m\u001b[1;33m\u001b[0m\u001b[1;33m\u001b[0m\u001b[0m\n\u001b[0;32m    379\u001b[0m     \u001b[0m_assert_stacked_2d\u001b[0m\u001b[1;33m(\u001b[0m\u001b[0ma\u001b[0m\u001b[1;33m)\u001b[0m\u001b[1;33m\u001b[0m\u001b[1;33m\u001b[0m\u001b[0m\n\u001b[1;32m--> 380\u001b[1;33m     \u001b[0m_assert_stacked_square\u001b[0m\u001b[1;33m(\u001b[0m\u001b[0ma\u001b[0m\u001b[1;33m)\u001b[0m\u001b[1;33m\u001b[0m\u001b[1;33m\u001b[0m\u001b[0m\n\u001b[0m\u001b[0;32m    381\u001b[0m     \u001b[0mb\u001b[0m\u001b[1;33m,\u001b[0m \u001b[0mwrap\u001b[0m \u001b[1;33m=\u001b[0m \u001b[0m_makearray\u001b[0m\u001b[1;33m(\u001b[0m\u001b[0mb\u001b[0m\u001b[1;33m)\u001b[0m\u001b[1;33m\u001b[0m\u001b[1;33m\u001b[0m\u001b[0m\n\u001b[0;32m    382\u001b[0m     \u001b[0mt\u001b[0m\u001b[1;33m,\u001b[0m \u001b[0mresult_t\u001b[0m \u001b[1;33m=\u001b[0m \u001b[0m_commonType\u001b[0m\u001b[1;33m(\u001b[0m\u001b[0ma\u001b[0m\u001b[1;33m,\u001b[0m \u001b[0mb\u001b[0m\u001b[1;33m)\u001b[0m\u001b[1;33m\u001b[0m\u001b[1;33m\u001b[0m\u001b[0m\n",
      "\u001b[1;32m~\\anaconda3\\lib\\site-packages\\numpy\\linalg\\linalg.py\u001b[0m in \u001b[0;36m_assert_stacked_square\u001b[1;34m(*arrays)\u001b[0m\n\u001b[0;32m    201\u001b[0m         \u001b[0mm\u001b[0m\u001b[1;33m,\u001b[0m \u001b[0mn\u001b[0m \u001b[1;33m=\u001b[0m \u001b[0ma\u001b[0m\u001b[1;33m.\u001b[0m\u001b[0mshape\u001b[0m\u001b[1;33m[\u001b[0m\u001b[1;33m-\u001b[0m\u001b[1;36m2\u001b[0m\u001b[1;33m:\u001b[0m\u001b[1;33m]\u001b[0m\u001b[1;33m\u001b[0m\u001b[1;33m\u001b[0m\u001b[0m\n\u001b[0;32m    202\u001b[0m         \u001b[1;32mif\u001b[0m \u001b[0mm\u001b[0m \u001b[1;33m!=\u001b[0m \u001b[0mn\u001b[0m\u001b[1;33m:\u001b[0m\u001b[1;33m\u001b[0m\u001b[1;33m\u001b[0m\u001b[0m\n\u001b[1;32m--> 203\u001b[1;33m             \u001b[1;32mraise\u001b[0m \u001b[0mLinAlgError\u001b[0m\u001b[1;33m(\u001b[0m\u001b[1;34m'Last 2 dimensions of the array must be square'\u001b[0m\u001b[1;33m)\u001b[0m\u001b[1;33m\u001b[0m\u001b[1;33m\u001b[0m\u001b[0m\n\u001b[0m\u001b[0;32m    204\u001b[0m \u001b[1;33m\u001b[0m\u001b[0m\n\u001b[0;32m    205\u001b[0m \u001b[1;32mdef\u001b[0m \u001b[0m_assert_finite\u001b[0m\u001b[1;33m(\u001b[0m\u001b[1;33m*\u001b[0m\u001b[0marrays\u001b[0m\u001b[1;33m)\u001b[0m\u001b[1;33m:\u001b[0m\u001b[1;33m\u001b[0m\u001b[1;33m\u001b[0m\u001b[0m\n",
      "\u001b[1;31mLinAlgError\u001b[0m: Last 2 dimensions of the array must be square"
     ]
    }
   ],
   "source": [
    "inputs = ['taul']\n",
    "unknowns = ['K','L']\n",
    "targets = ['asset_mkt','labor_mrkt']\n",
    "\n",
    "G = OLGmodel.solve_jacobian(ss, unknowns, targets, inputs, T=4)"
   ]
  },
  {
   "cell_type": "markdown",
   "id": "cf2b3ab0",
   "metadata": {},
   "source": [
    "...but then I keep getting the following error message. Do you have a sense of what is happening? I've calculated what I think is the correct H_U matrix and it seems invertible/square with full dimension. "
   ]
  },
  {
   "cell_type": "code",
   "execution_count": null,
   "id": "7c206df1",
   "metadata": {},
   "outputs": [],
   "source": []
  }
 ],
 "metadata": {
  "kernelspec": {
   "display_name": "Python 3",
   "language": "python",
   "name": "python3"
  },
  "language_info": {
   "codemirror_mode": {
    "name": "ipython",
    "version": 3
   },
   "file_extension": ".py",
   "mimetype": "text/x-python",
   "name": "python",
   "nbconvert_exporter": "python",
   "pygments_lexer": "ipython3",
   "version": "3.8.8"
  }
 },
 "nbformat": 4,
 "nbformat_minor": 5
}
